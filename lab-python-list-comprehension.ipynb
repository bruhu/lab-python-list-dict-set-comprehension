{
 "cells": [
  {
   "cell_type": "markdown",
   "id": "25d7736c-ba17-4aff-b6bb-66eba20fbf4e",
   "metadata": {},
   "source": [
    "# Lab | List, Dict and Set Comprehension"
   ]
  },
  {
   "cell_type": "markdown",
   "id": "7dd3cbde-675a-4b81-92c3-f728846dbe06",
   "metadata": {},
   "source": [
    "## Exercise: Managing Customer Orders Optimized with Comprehension"
   ]
  },
  {
   "cell_type": "markdown",
   "id": "5d500160-2fb7-4777-b5e4-09d45ebaf328",
   "metadata": {},
   "source": [
    "In the previous exercise, you developed a program to manage customer orders and inventory. Now, let's take it a step further and incorporate comprehension into your code.\n",
    "\n",
    "Follow the steps below to complete the exercise:\n",
    "\n",
    "1. Review your code from the previous exercise and identify areas where you can apply comprehension to simplify and streamline your code. \n",
    "\n",
    "    - *Hint: Apply it to initialize inventory, updating the inventory and printing the updated inventory.*\n",
    "    \n",
    "    - For example, in initializing the inventory, we could have:\n",
    "    \n",
    "        ```python\n",
    "        def initialize_inventory(products):\n",
    "            inventory = {product: int(input(f\"Enter the quantity of {product}s available: \")) for product in products}\n",
    "            return inventory\n",
    "\n",
    "        ```\n",
    "<br>\n",
    "    \n",
    "    \n",
    "2. Modify the function get_customer_orders so it prompts the user to enter the number of customer orders and gathers the product names using a loop and user input. Use comprehension.\n",
    "\n",
    "3. Add a new function to calculate the total price of the customer order. For each product in customer_orders, prompt the user to enter the price of that product. Use comprehension to calculate the total price. Note: assume that the user can only have 1 unit of each product.\n",
    "\n",
    "4. Modify the update_inventory function to remove the product from the inventory if its quantity becomes zero after fulfilling the customer orders. Use comprehension to filter out the products with a quantity of zero from the inventory.\n",
    "\n",
    "5. Print the total price of the customer order.\n",
    "\n",
    "Your code should produce output similar to the following:\n",
    "\n",
    "```python\n",
    "Enter the quantity of t-shirts available:  5\n",
    "Enter the quantity of mugs available:  4\n",
    "Enter the quantity of hats available:  3\n",
    "Enter the quantity of books available:  2\n",
    "Enter the quantity of keychains available:  1\n",
    "Enter the number of customer orders:  2\n",
    "Enter the name of a product that a customer wants to order:  hat\n",
    "Enter the name of a product that a customer wants to order:  keychain\n",
    "\n",
    "Order Statistics:\n",
    "Total Products Ordered: 2\n",
    "Percentage of Unique Products Ordered: 40.0\n",
    "\n",
    "Updated Inventory:\n",
    "t-shirt: 5\n",
    "mug: 4\n",
    "hat: 2\n",
    "book: 2\n",
    "Enter the price of keychain:  5\n",
    "Enter the price of hat:  10\n",
    "Total Price: 15.0\n",
    "\n",
    "```\n"
   ]
  },
  {
   "cell_type": "markdown",
   "id": "53dfb6b1-4c45-4225-b989-8753e842b7aa",
   "metadata": {},
   "source": [
    "1. Review your code from the previous exercise and identify areas where you can apply comprehension to simplify and streamline your code. \n",
    "\n",
    "    - *Hint: Apply it to initialize inventory, updating the inventory and printing the updated inventory.*\n",
    "    \n",
    "    - For example, in initializing the inventory, we could have:\n",
    "    \n",
    "        ```python\n",
    "        def initialize_inventory(products):\n",
    "            inventory = {product: int(input(f\"Enter the quantity of {product}s available: \")) for product in products}\n",
    "            return inventory\n",
    "\n",
    "        ```"
   ]
  },
  {
   "cell_type": "code",
   "execution_count": 49,
   "id": "fa24eeba-716d-43f7-85a4-0a5bbf8e2438",
   "metadata": {},
   "outputs": [
    {
     "name": "stdin",
     "output_type": "stream",
     "text": [
      "Enter the amount of t-shirts available in the inventory: 12\n",
      "Enter the amount of mugs available in the inventory: 32\n",
      "Enter the amount of hats available in the inventory: 44\n",
      "Enter the amount of books available in the inventory: 55\n",
      "Enter the amount of keychains available in the inventory: 11\n"
     ]
    },
    {
     "name": "stdout",
     "output_type": "stream",
     "text": [
      "Inventory: {'t-shirt': 12, 'mug': 32, 'hat': 44, 'book': 55, 'keychain': 11}\n",
      "{}\n"
     ]
    }
   ],
   "source": [
    "def initialize_inventory(products):\n",
    "    inventory = {product: int(input(f\"Enter the amount of {product}s available:\")) for product in products}\n",
    "    # print(\"Inventory:\", inventory)\n",
    "    return inventory\n",
    "\n",
    "products = [\"t-shirt\", \"mug\", \"hat\", \"book\", \"keychain\"]\n",
    "initialize_inventory(products)\n",
    "print(inventory)"
   ]
  },
  {
   "cell_type": "markdown",
   "id": "d52aa101-205e-4ac4-8eea-522f3c816629",
   "metadata": {},
   "source": [
    "2. Modify the function get_customer_orders so it prompts the user to enter the number of customer orders and gathers the product names using a loop and user input. Use comprehension."
   ]
  },
  {
   "cell_type": "code",
   "execution_count": 40,
   "id": "28231c07-ed98-4f50-8a6e-4ceec3cdbea5",
   "metadata": {},
   "outputs": [
    {
     "name": "stdin",
     "output_type": "stream",
     "text": [
      "What do you want to order? food\n",
      "Would you like to add another product to the shopping cart? [yes/no]  yes\n",
      "What do you want to order? coffee\n",
      "Would you like to add another product to the shopping cart? [yes/no]  no\n"
     ]
    },
    {
     "name": "stdout",
     "output_type": "stream",
     "text": [
      "{'food', 'coffee'}\n"
     ]
    }
   ],
   "source": [
    "# Inventory: {'t-shirt': 12, 'mug': 32, 'hat': 44, 'book': 55, 'keychain': 11}\n",
    "\n",
    "orders = set()\n",
    "\n",
    "def get_customer_orders():\n",
    "    while True:\n",
    "        orders.add(input(\"What do you want to order?\"))\n",
    "        if input(\"Would you like to add another product to the shopping cart? [yes/no] \").strip().lower() != 'yes':\n",
    "            break\n",
    "            return {order for order in orders}\n",
    "\n",
    "get_customer_orders()\n",
    "print(orders)"
   ]
  },
  {
   "cell_type": "markdown",
   "id": "f1e15246-58b2-4378-b728-1b8a27b246a6",
   "metadata": {},
   "source": [
    "3. Add a new function to calculate the total price of the customer order. For each product in customer_orders, prompt the user to enter the price of that product. Use comprehension to calculate the total price. Note: assume that the user can only have 1 unit of each product."
   ]
  },
  {
   "cell_type": "code",
   "execution_count": 56,
   "id": "cfff9060-c94e-44b4-88f2-484f2853db40",
   "metadata": {},
   "outputs": [
    {
     "name": "stdin",
     "output_type": "stream",
     "text": [
      "Enter the price for food:  12\n",
      "Enter the price for coffee:  34\n"
     ]
    },
    {
     "name": "stdout",
     "output_type": "stream",
     "text": [
      "The total of your order is: 46.0\n"
     ]
    }
   ],
   "source": [
    "orders = ('food', 'coffee')\n",
    "\n",
    "def calc_total_price():\n",
    "    total_price = sum(float(input(f\"Enter the price for {order}: \")) for order in orders)\n",
    "    return total_price\n",
    "\n",
    "total = calc_total_price()\n",
    "print(f\"The total of your order is: {total}\")        "
   ]
  },
  {
   "cell_type": "markdown",
   "id": "4acaac7a-cddf-47ed-86e8-cdfb9199a9b5",
   "metadata": {},
   "source": [
    "4. Modify the update_inventory function to remove the product from the inventory if its quantity becomes zero after fulfilling the customer orders. Use comprehension to filter out the products with a quantity of zero from the inventory."
   ]
  },
  {
   "cell_type": "code",
   "execution_count": null,
   "id": "443bc4f1-1581-4ff6-b718-8fe987333d98",
   "metadata": {},
   "outputs": [],
   "source": [
    "def update_inventory(inventory, customer_orders):\n",
    "    # Reduce the quantity of each ordered product\n",
    "    for product in customer_orders:\n",
    "        if product in inventory:\n",
    "            inventory[product] -= 1\n",
    "    \n",
    "    # Filter out items with quantity 0\n",
    "    updated_inventory = {product: qty for product, qty in inventory.items() if qty > 0}\n",
    "    \n",
    "    return updated_inventory"
   ]
  },
  {
   "cell_type": "code",
   "execution_count": 129,
   "id": "cacea9f1-6cbf-46b1-84c5-851729523025",
   "metadata": {},
   "outputs": [
    {
     "name": "stdout",
     "output_type": "stream",
     "text": [
      "This item is not in the inventory: coffee\n",
      "Updated Inventory:\n",
      "mug: 31\n",
      "hat: 43\n",
      "book: 54\n"
     ]
    }
   ],
   "source": [
    "inventory = {'t-shirt': 12, 'mug': 32, 'hat': 44, 'book': 55, 'keychain': 11}\n",
    "customer_orders = ['mug', 'hat', 'book', 'coffee']\n",
    "updated_inventory = {}\n",
    "\n",
    "def update_inventory():\n",
    "    unavailable_items = [print(f\"This item is not in the inventory: {item}\") for item in customer_orders if item not in inventory]\n",
    "    updated_inventory = {item: inventory[item] - 1 for item in customer_orders if item in inventory}\n",
    "    print(\"Updated Inventory:\")\n",
    "    {print(f\"{item}: {quantity}\") for item, quantity in updated_inventory.items()}\n",
    "\n",
    "update_inventory()"
   ]
  },
  {
   "cell_type": "markdown",
   "id": "c86ef805-84c0-4442-9fcb-ba9365d2d9e9",
   "metadata": {},
   "source": [
    "5. Print the total price of the customer order."
   ]
  },
  {
   "cell_type": "markdown",
   "id": "2b07c23a-43ed-4da7-a562-64fed5516979",
   "metadata": {},
   "source": [
    "### Output\n",
    "\n",
    "Your code should produce output similar to the following:\n",
    "\n",
    "```python\n",
    "Enter the quantity of t-shirts available:  5\n",
    "Enter the quantity of mugs available:  4\n",
    "Enter the quantity of hats available:  3\n",
    "Enter the quantity of books available:  2\n",
    "Enter the quantity of keychains available:  1\n",
    "Enter the number of customer orders:  2\n",
    "Enter the name of a product that a customer wants to order:  hat\n",
    "Enter the name of a product that a customer wants to order:  keychain\n",
    "\n",
    "Order Statistics:\n",
    "Total Products Ordered: 2\n",
    "Percentage of Unique Products Ordered: 40.0\n",
    "\n",
    "Updated Inventory:\n",
    "t-shirt: 5\n",
    "mug: 4\n",
    "hat: 2\n",
    "book: 2\n",
    "Enter the price of keychain:  5\n",
    "Enter the price of hat:  10\n",
    "Total Price: 15.0\n",
    "\n",
    "```"
   ]
  },
  {
   "cell_type": "code",
   "execution_count": null,
   "id": "eb7b7c66-8eae-467d-a94a-7c70678a9e21",
   "metadata": {},
   "outputs": [],
   "source": []
  },
  {
   "cell_type": "code",
   "execution_count": null,
   "id": "ea80fc7c-2704-4eda-bda5-89809be2a742",
   "metadata": {},
   "outputs": [],
   "source": []
  }
 ],
 "metadata": {
  "kernelspec": {
   "display_name": "Python 3 (ipykernel)",
   "language": "python",
   "name": "python3"
  },
  "language_info": {
   "codemirror_mode": {
    "name": "ipython",
    "version": 3
   },
   "file_extension": ".py",
   "mimetype": "text/x-python",
   "name": "python",
   "nbconvert_exporter": "python",
   "pygments_lexer": "ipython3",
   "version": "3.12.2"
  }
 },
 "nbformat": 4,
 "nbformat_minor": 5
}
